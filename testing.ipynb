{
 "cells": [
  {
   "cell_type": "code",
   "execution_count": 1,
   "id": "25b6cb95-68e1-4e3f-836c-c0d4f701dc60",
   "metadata": {},
   "outputs": [],
   "source": [
    "%load_ext autoreload\n",
    "%autoreload 2"
   ]
  },
  {
   "cell_type": "code",
   "execution_count": 6,
   "id": "80ee16f4-5daf-435b-aefb-ad65094657f5",
   "metadata": {},
   "outputs": [],
   "source": [
    "from screenSim.simulator import Simulator"
   ]
  },
  {
   "cell_type": "code",
   "execution_count": 7,
   "id": "5814525f-abd0-4400-bea1-d9b468cf00f1",
   "metadata": {},
   "outputs": [
    {
     "name": "stdout",
     "output_type": "stream",
     "text": [
      "           gene     0    1     2     0    1      type\n",
      "0        gene_0   1.0  6.0  10.0  12.0  5.0  enriched\n",
      "1        gene_1  12.0  5.0   2.0   7.0  3.0  enriched\n",
      "2        gene_2  10.0  3.0   1.0   5.0  4.0  enriched\n",
      "3        gene_3  10.0  3.0   9.0   7.0  5.0  enriched\n",
      "4        gene_4   3.0  1.0   5.0  10.0  4.0  enriched\n",
      "...         ...   ...  ...   ...   ...  ...       ...\n",
      "9995  gene_9995   4.0  7.0   2.0   7.0  4.0       NTC\n",
      "9996  gene_9996   0.0  8.0   3.0   3.0  2.0       NTC\n",
      "9997  gene_9997   3.0  2.0   7.0  13.0  4.0       NTC\n",
      "9998  gene_9998  15.0  8.0   5.0   1.0  1.0       NTC\n",
      "9999  gene_9999  11.0  1.0   4.0   1.0  4.0       NTC\n",
      "\n",
      "[10000 rows x 7 columns]\n"
     ]
    }
   ],
   "source": [
    "trial = Simulator(num_genes=10000, num_treatment=3, fraction_depleted=0.8)\n",
    "print(trial.sample())"
   ]
  },
  {
   "cell_type": "code",
   "execution_count": null,
   "id": "7ee537c9-e4ee-4340-ab99-6ce194d96a14",
   "metadata": {},
   "outputs": [],
   "source": []
  }
 ],
 "metadata": {
  "kernelspec": {
   "display_name": "Python 3 (ipykernel)",
   "language": "python",
   "name": "python3"
  },
  "language_info": {
   "codemirror_mode": {
    "name": "ipython",
    "version": 3
   },
   "file_extension": ".py",
   "mimetype": "text/x-python",
   "name": "python",
   "nbconvert_exporter": "python",
   "pygments_lexer": "ipython3",
   "version": "3.9.12"
  }
 },
 "nbformat": 4,
 "nbformat_minor": 5
}
