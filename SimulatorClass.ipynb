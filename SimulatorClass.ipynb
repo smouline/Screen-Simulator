{
 "cells": [
  {
   "cell_type": "code",
   "execution_count": 1,
   "id": "841893ae-3807-4a61-9f86-c7a133bbb986",
   "metadata": {},
   "outputs": [],
   "source": [
    "import numpy as np\n",
    "import pandas as pd\n",
    "import matplotlib.pyplot as plt"
   ]
  },
  {
   "cell_type": "code",
   "execution_count": 2,
   "id": "4a60d7b7-2f74-4cf0-87c6-19daef3350d5",
   "metadata": {},
   "outputs": [],
   "source": [
    "class Simulator:\n",
    "    def __init__(\n",
    "        self, \n",
    "        num_genes = 300000, \n",
    "        avg_num_sgrnas = 5, \n",
    "        num_treatment = 2, \n",
    "        num_control = 2, \n",
    "        #ask about reads -- does this mean that the total numbers in the library should sum to this number \n",
    "        total_reads_treatment = 1000,\n",
    "        total_reads_control = 1000,\n",
    "        total_NTCs = 1000,\n",
    "        fraction_enriched = 0.2,\n",
    "        fraction_depleted = 0.2,\n",
    "        fraction_NTC = 0.2):\n",
    "        \n",
    "        #use the inputted fractions to define the normal one? Ensure total fractions = 1\n",
    "        \n",
    "        self.num_genes = num_genes\n",
    "        self.avg_num_sgrnas = avg_num_sgrnas\n",
    "        self.num_treatment = num_treatment\n",
    "        self.num_control = num_control\n",
    "        self.total_reads_treatment = total_reads_treatment\n",
    "        self.total_reads_control = total_reads_control\n",
    "        self.total_NTCs = total_NTCs\n",
    "        self.fraction_enriched = fraction_enriched\n",
    "        self.fraction_depleted = fraction_depleted\n",
    "        self.fraction_NTC = fraction_NTC\n",
    "        \n",
    "    \n",
    "    \n",
    "    def sample(self):\n",
    "        df = pd.DataFrame({\"gene\": [\"gene\" + str(i) for i in np.arange(self.num_genes)]})\n",
    "        \n",
    "        for i in np.arange(self.num_treatment):\n",
    "            df[\"lib_treatment_\" + str(i+1)] = np.random.randint(1, 10, size=self.num_genes)\n",
    "            \n",
    "        for i in np.arange(self.num_control):\n",
    "            df[\"lib_control_\" + str(i+1)] = np.random.randint(1, 10, size=self.num_genes)\n",
    "        \n",
    "        return df"
   ]
  },
  {
   "cell_type": "code",
   "execution_count": 3,
   "id": "8c384a2a-b0f3-497d-8cee-84ff98619a00",
   "metadata": {},
   "outputs": [
    {
     "name": "stdout",
     "output_type": "stream",
     "text": [
      "          gene  lib_treatment_1  lib_treatment_2  lib_treatment_3  \\\n",
      "0        gene0                3                5                5   \n",
      "1        gene1                9                3                2   \n",
      "2        gene2                1                9                1   \n",
      "3        gene3                4                6                6   \n",
      "4        gene4                4                4                3   \n",
      "...        ...              ...              ...              ...   \n",
      "9995  gene9995                3                4                7   \n",
      "9996  gene9996                6                3                8   \n",
      "9997  gene9997                8                9                8   \n",
      "9998  gene9998                9                2                9   \n",
      "9999  gene9999                7                2                9   \n",
      "\n",
      "      lib_control_1  lib_control_2  \n",
      "0                 7              3  \n",
      "1                 1              8  \n",
      "2                 5              7  \n",
      "3                 1              2  \n",
      "4                 6              6  \n",
      "...             ...            ...  \n",
      "9995              8              4  \n",
      "9996              3              6  \n",
      "9997              1              2  \n",
      "9998              8              4  \n",
      "9999              6              8  \n",
      "\n",
      "[10000 rows x 6 columns]\n"
     ]
    }
   ],
   "source": [
    "trial = Simulator(num_genes=10000, num_treatment=3)\n",
    "print(trial.sample())"
   ]
  },
  {
   "cell_type": "code",
   "execution_count": null,
   "id": "2a336722-4d89-4362-8f60-9d115c063f26",
   "metadata": {},
   "outputs": [],
   "source": []
  }
 ],
 "metadata": {
  "kernelspec": {
   "display_name": "Python 3 (ipykernel)",
   "language": "python",
   "name": "python3"
  },
  "language_info": {
   "codemirror_mode": {
    "name": "ipython",
    "version": 3
   },
   "file_extension": ".py",
   "mimetype": "text/x-python",
   "name": "python",
   "nbconvert_exporter": "python",
   "pygments_lexer": "ipython3",
   "version": "3.9.12"
  }
 },
 "nbformat": 4,
 "nbformat_minor": 5
}
