{
 "cells": [
  {
   "cell_type": "code",
   "execution_count": 1,
   "id": "841893ae-3807-4a61-9f86-c7a133bbb986",
   "metadata": {},
   "outputs": [],
   "source": [
    "import numpy as np\n",
    "import pandas as pd\n",
    "import matplotlib.pyplot as plt"
   ]
  },
  {
   "cell_type": "code",
   "execution_count": 2,
   "id": "4a60d7b7-2f74-4cf0-87c6-19daef3350d5",
   "metadata": {},
   "outputs": [],
   "source": [
    "class Simulator:\n",
    "    def __init__(\n",
    "        self, \n",
    "        num_genes = 300000, \n",
    "        avg_num_sgrnas = 5, \n",
    "        num_treatment = 2, \n",
    "        num_control = 2, \n",
    "        min_total = 1000,\n",
    "        max_total = 100000,\n",
    "        total_NTCs = 1000,\n",
    "        fraction_enriched = 0.2,\n",
    "        fraction_depleted = 0.2,\n",
    "        fraction_NTC = 0.2):\n",
    "        \n",
    "        #use the inputted fractions to define the normal one? Ensure total of the fractions = 1\n",
    "        \n",
    "        self.num_genes = num_genes\n",
    "        self.avg_num_sgrnas = avg_num_sgrnas\n",
    "        self.num_treatment = num_treatment\n",
    "        self.num_control = num_control\n",
    "        self.min_total = min_total\n",
    "        self.max_total = max_total\n",
    "        self.total_NTCs = total_NTCs\n",
    "        self.fraction_enriched = fraction_enriched\n",
    "        self.fraction_depleted = fraction_depleted\n",
    "        self.fraction_NTC = fraction_NTC\n",
    "        \n",
    "    \n",
    "    def setting_array(self):\n",
    "        total = np.random.randint(self.min_total, self.max_total)\n",
    "        a = np.random.random(self.num_genes)\n",
    "        a /= a.sum()\n",
    "        a *= total\n",
    "        a = np.round(a)\n",
    "        return a\n",
    "    \n",
    "    \n",
    "    def sample(self):\n",
    "        df = pd.DataFrame({\"gene\": [\"gene\" + str(i) for i in np.arange(self.num_genes)]})\n",
    "        \n",
    "        for i in np.arange(self.num_treatment):\n",
    "            df[\"lib_treatment_\" + str(i+1)] = self.setting_array()\n",
    "            \n",
    "        for i in np.arange(self.num_control):\n",
    "            df[\"lib_control_\" + str(i+1)] = self.setting_array()\n",
    "        \n",
    "        return df"
   ]
  },
  {
   "cell_type": "code",
   "execution_count": 3,
   "id": "8c384a2a-b0f3-497d-8cee-84ff98619a00",
   "metadata": {},
   "outputs": [
    {
     "name": "stdout",
     "output_type": "stream",
     "text": [
      "          gene  lib_treatment_1  lib_treatment_2  lib_control_1  lib_control_2\n",
      "0        gene0              4.0              2.0            5.0           11.0\n",
      "1        gene1              0.0              1.0            5.0            6.0\n",
      "2        gene2              8.0              6.0            0.0            3.0\n",
      "3        gene3              3.0              2.0            3.0            1.0\n",
      "4        gene4              5.0              6.0            4.0           10.0\n",
      "...        ...              ...              ...            ...            ...\n",
      "9995  gene9995              8.0              1.0            1.0           10.0\n",
      "9996  gene9996              5.0              5.0            3.0            6.0\n",
      "9997  gene9997              4.0              5.0            2.0            8.0\n",
      "9998  gene9998              8.0              3.0            2.0            0.0\n",
      "9999  gene9999              5.0              2.0            4.0            2.0\n",
      "\n",
      "[10000 rows x 5 columns]\n"
     ]
    }
   ],
   "source": [
    "trial = Simulator(num_genes=10000, num_treatment=2)\n",
    "print(trial.sample())"
   ]
  }
 ],
 "metadata": {
  "kernelspec": {
   "display_name": "Python 3 (ipykernel)",
   "language": "python",
   "name": "python3"
  },
  "language_info": {
   "codemirror_mode": {
    "name": "ipython",
    "version": 3
   },
   "file_extension": ".py",
   "mimetype": "text/x-python",
   "name": "python",
   "nbconvert_exporter": "python",
   "pygments_lexer": "ipython3",
   "version": "3.9.12"
  }
 },
 "nbformat": 4,
 "nbformat_minor": 5
}
